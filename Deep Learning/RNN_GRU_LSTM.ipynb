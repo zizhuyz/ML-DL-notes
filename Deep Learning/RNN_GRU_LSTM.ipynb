{
 "cells": [
  {
   "cell_type": "markdown",
   "metadata": {},
   "source": [
    "### Basic RNN model\n",
    "\n",
    "<img src='images/Basic_RNN.png' width=600>\n",
    "\n",
    "\\begin{align}\n",
    "a^{<0>} &= \\vec{0} \\\\\n",
    "a^{<t>} &= g(W_{aa}a^{<t-1>}+W_{ax}x^{<t>}+b_a)  \\quad \\quad (tanh)\\\\\n",
    "\\hat{y}^{<t>} &= g(W_{ya}a^{<t>}+b_y) \\quad \\quad (softmax)\n",
    "\\end{align}\n",
    "\n",
    "`Problem` <br/>\n",
    "The basics RNN is not very good at capturing very long-term dependencies.\n",
    "\n",
    "In training a very deep neural network, **the gradient from just output y, would have a very hard time propagating back to affect the weights of these earlier layers, to affect the computations in the earlier layers**. \n",
    "\n",
    "The basic RNN model has many local influences, meaning that the output $y^{<3>}$ is mainly influenced by values close to $y^{<3>}$. And a value here is mainly influenced by inputs that are somewhere close. \n",
    "\n",
    "And it's difficult for the output here to be strongly influenced by an input that was very early in the sequence. And this is because whatever the output is, whether this got it right, this got it wrong, **it's just very difficult for the area to backpropagate all the way to the beginning of the sequence, and therefore to modify how the neural network is doing computations earlier in the sequence**. \n",
    "\n",
    "### LSTM\n",
    "LSTM设计forget gate $\\Gamma_f$， update gate $\\Gamma_u$，output gate $\\Gamma_o$这三个gates，是为了应对在长序列中的梯度消失问题：记住早些时候的参数，而不在长的sequence中去更新参数，就可以解决梯度消失问题。\n",
    "\n",
    "forget gate是忘记本次的更新（don't update）：不采用本次算出的memory cell值($\\tilde{c}^{<t>}$)去更新，而是保留上一步的memory cell 值 $c^{<t>} = c^{<t-1>}$. \n",
    "\n",
    "通过合理设定$\\Gamma_f$ $\\Gamma_u$的值，可以使$c^{<0>}$的值保持不变往右传：$c^{<t>} = c^{<t-i>}$\n",
    "\n",
    "<img src='images/LSTM_equations.jpg' width=600>\n",
    "\n",
    "\n",
    "### GRU\n",
    "GRU是LSTM的简化。下图是简化版的GRU，只有update gate。update gate\n",
    "<img src='images/GRU.png' width=600>\n",
    "\n",
    "### GRU vs LSTM\n",
    "<img src='images/GRU_vs_LSTM.png' width=600>"
   ]
  },
  {
   "cell_type": "code",
   "execution_count": null,
   "metadata": {},
   "outputs": [],
   "source": []
  }
 ],
 "metadata": {
  "kernelspec": {
   "display_name": "Python [conda env:py3-4-prac]",
   "language": "python",
   "name": "conda-env-py3-4-prac-py"
  },
  "language_info": {
   "codemirror_mode": {
    "name": "ipython",
    "version": 3
   },
   "file_extension": ".py",
   "mimetype": "text/x-python",
   "name": "python",
   "nbconvert_exporter": "python",
   "pygments_lexer": "ipython3",
   "version": "3.6.8"
  }
 },
 "nbformat": 4,
 "nbformat_minor": 2
}
