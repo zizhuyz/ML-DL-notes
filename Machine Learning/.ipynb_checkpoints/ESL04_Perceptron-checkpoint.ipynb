{
 "cells": [
  {
   "cell_type": "markdown",
   "metadata": {},
   "source": [
    "## Rosenblatt's Perceptron Learning Algorithm (1958)\n",
    "\n",
    "**pp.129**\n",
    "\n",
    "**idea** Perceptron computes a linear combination of the input features and return the sign {-1, 1}.\n",
    "\n",
    "**description** Perceptron learns a separating hyperplane by minimizing the distance of misclassified points to the  hyperplane (decision boundary).\n",
    "\n",
    "**Highlights** <br/>\n",
    "- If the training data are linear separable, perceptron converges to a separating hyperplane in a finite number of steps. And there are many solutions, and which one is found depends on the starting values / initialisation ($w_0, b_0$) and the choices of misclassified points.\n",
    "- The “finite” number of steps to convergence can be very large. <u>The smaller the gap (gap where the separating hyperplanes fall in), the longer the time to find it (the hyperplane).</u> (*How to tackle this problem? Find a hyperplane **in a much enlarged space** obtained by creating many basis-function transformations of the original variables. pp.132(**Not clear**)*)\n",
    "- If the data are not linear separable, this algorithm won't converge.\n",
    "\n",
    "**Input** <br/>\n",
    "Training data $T=\\{(x_1, y_1),...(x_N,y_N)\\}$, where $x_i \\in \\mathcal{X} \\subseteq \\mathbb{R}^n$, and $y_i \\in \\mathcal{Y} = \\{-1, 1\\}$ are the classes$\n",
    "\n",
    "**Model** <br/>\n",
    "$f(x) = sign(w \\cdot x+b )$\n",
    "\n",
    "**Output** <br/>\n",
    "$w, b$\n",
    "\n",
    "**Loss function** <br/>\n",
    "$\\min\\limits_{w,b}L(w,b)=-\\sum_{x_i \\in M} y_i(w \\cdot x_i+b)$, where $M$ is the set of misclassified points.  If all data can be classified correctly, the loss is 0.\n",
    "\n",
    "**gradient** <br/>\n",
    "$\\frac{\\partial L(w,b)}{\\partial w} = -y_ix_i$<br/>\n",
    "$\\frac{\\partial L(w,b)}{\\partial b} = -y_i$\n",
    "\n",
    "**gradient descent**<br/>\n",
    "$w := w + \\alpha \\cdot y_ix_i$<br/>\n",
    "$b := b + \\alpha \\cdot y_i$\n",
    "Here $\\alpha \\in (0,1]$ is the learning rate. In the following code, $\\alpha$ is set as 1.\n",
    "\n",
    "$\\begin{pmatrix} w \\\\ b \\end{pmatrix} \\leftarrow \\begin{pmatrix} w \\\\ b \\end{pmatrix} + \\alpha \\begin{pmatrix} y_ix_i\\\\ y_i \\end{pmatrix}$\n",
    "\n",
    "**Algorithm** <br/>\n",
    "1. Initialise $w_0$ and $b_0$\n",
    "2. Choose a $(x_i, y_i)$, if $y_i(w \\cdot x_i+b) \\leq 0$, update $w$ and $b$\n",
    "3. Repeat step 2, until $L(w,b)=0$"
   ]
  },
  {
   "cell_type": "markdown",
   "metadata": {},
   "source": [
    "**Questions on 07-11-2019**\n",
    "1. If observations from two different classes share the same input, how to make the code workable for dealing with this situation? For example, `X = np.array([[3,3],[3,4],[1,1],[1,1]])`, `y = np.array([1,1,-1,1])`.\n",
    "2. How to \"Find a hyperplane in a much enlarged space obtained by creating many basis-function transformations of the original variables\"? This is analogous to driving the residuals in a polynomial regression problem down to zero by making the degree sufficiently large (pp.132)."
   ]
  },
  {
   "cell_type": "markdown",
   "metadata": {},
   "source": [
    "### Implementation of Rosenblatt's Perceptron Algorithm\n",
    "An example: \n",
    "$x_1=(3,4), y_1=-1$; $x_2=(3,3), y_2=-1$; $x_3=(1,1), y_1=1$\n",
    "\n",
    "**注意flag的使用**\n",
    "\n",
    "[参考：类的写法](https://blog.csdn.net/cracker180/article/details/78778305)"
   ]
  },
  {
   "cell_type": "code",
   "execution_count": 27,
   "metadata": {},
   "outputs": [],
   "source": [
    "import numpy as np\n",
    "# training data\n",
    "X = np.array([[3,3],[3,4],[1,1]])  # N*D: (3,2)\n",
    "y = np.array([1,1,-1])  # N, : (3,)\n",
    "\n",
    "# X = np.array([[3,3],[3,4],[1,1],[1,1]])  # N*D: (3,2)\n",
    "# y = np.array([1,1,-1,1])  # N, : (3,)\n",
    "\n",
    "def perceptron(X, y, learning_rate=1):\n",
    "    # initialise w0, b0\n",
    "    w = np.random.randint(10, size=(X.shape[1],1))  # (D, 1)\n",
    "    b = 0 # scalar\n",
    "\n",
    "    # gradient descent\n",
    "    flag = True\n",
    "    while flag:\n",
    "        counter = 0\n",
    "        for i in range(len(X)):\n",
    "            if y[i]*(np.sum(w.transpose()*X[i])+b) <= 0:\n",
    "                w = w + learning_rate*(y[i]*X[i]).reshape(w.shape)\n",
    "                b = b + learning_rate*y[i]\n",
    "                counter += 1\n",
    "        if counter == 0:\n",
    "            flag = False\n",
    "    return w, b"
   ]
  },
  {
   "cell_type": "code",
   "execution_count": 28,
   "metadata": {},
   "outputs": [
    {
     "name": "stdout",
     "output_type": "stream",
     "text": [
      "2\n"
     ]
    },
    {
     "data": {
      "image/png": "[encoded data removed]",
      "text/plain": [
       "<Figure size 432x288 with 1 Axes>"
      ]
     },
     "metadata": {
      "needs_background": "light"
     },
     "output_type": "display_data"
    }
   ],
   "source": [
    "import matplotlib.pyplot as plt\n",
    "plt.figure(1)  \n",
    "plt.title('', size=14)  \n",
    "plt.xlabel('$x_1$', size=14)  \n",
    "plt.ylabel('$x_2$', size=14)\n",
    "\n",
    "for i in np.where(y==1)[0]:\n",
    "    plt.scatter(X[i][0],X[i][1],c='C1',s=50)  \n",
    "for j in np.where(y==-1)[0]:\n",
    "    print(j)\n",
    "    plt.scatter(X[j][0],X[j][1],c='C2', marker='x',s=50)\n",
    "\n",
    "xData = np.linspace(0, 5, 100)\n",
    "\n",
    "for i in range(3):\n",
    "    w, b = perceptron(X, y)\n",
    "    yData = (-b - w[0]*xData)/w[1]    \n",
    "    plt.plot(xData, yData, color='C%d'%(i+1), label='solution %d'%(i+1))\n",
    "plt.legend()\n",
    "plt.show()"
   ]
  },
  {
   "cell_type": "code",
   "execution_count": null,
   "metadata": {},
   "outputs": [],
   "source": []
  }
 ],
 "metadata": {
  "kernelspec": {
   "display_name": "Python [conda env:py3-4-prac]",
   "language": "python",
   "name": "conda-env-py3-4-prac-py"
  }
 },
 "nbformat": 4,
 "nbformat_minor": 2
}
