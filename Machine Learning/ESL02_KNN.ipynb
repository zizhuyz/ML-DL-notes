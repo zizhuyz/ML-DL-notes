{
 "cells": [
  {
   "cell_type": "markdown",
   "metadata": {},
   "source": [
    "---\n",
    "# Chapter 2"
   ]
  },
  {
   "cell_type": "markdown",
   "metadata": {},
   "source": [
    "## 1. Deeper understanding\n",
    "- Variable Types (pp9)\n",
    "    * categorical (qualitative)\n",
    "    * numeric (quantitative)\n",
    "    * ordered categorical (s, m, l, xl) <br/>\n",
    "    Note for the ordered categorical, there is an ordering between the values, but no metric notation is appliable. For instance, the difference between s&m is not the same as that of m&l.\n",
    "- Linear Regression v.s. k-nearest-neighbour (pp16)\n",
    "\n",
    "| Property        | Linear Regression           | KNN  |\n",
    "| ------ |----------| -----|\n",
    "| assumption      | strict: a linear db is proper | mild |\n",
    "| stable or not      |   stable    |  unstable: <br/> any subregion of the db depends on a handful of input points |\n",
    "| bias | high| low|\n",
    "| variance |  low     |   high  |\n",
    "\n",
    "- Linear Regression and KNN are the most basic procedures and they are fundanmental to many other most popular techniques in use today.\n",
    "\n",
    "- $L1$ criteria have discontinuities in their derivatives, which have hindered their widespread use. Squared error is analytically convenient and the most popular"
   ]
  },
  {
   "cell_type": "markdown",
   "metadata": {},
   "source": [
    "## 1.1 $k$-nearest-neighbour\n",
    "- Usage: Both classification and regression\n",
    "- Deterministic model\n",
    "- Effectiveness: \n",
    "> Despite its simplicity, k-nearest-neighbors has been successful in a large number of classification problems, including handwritten digits, satellite image scenes and EKG patterns. It is often successful where each class has many possible prototypes, and the decision boundary is very irregular (ESL pp.465). \n",
    "\n",
    "\n",
    "### `Algorithm Overview`\n",
    "**Input** \n",
    "- Training data $T=\\{(x_1, y_1),...(x_N,y_N)\\}$, where $x_i \\in \\mathcal{X} \\subseteq \\mathbb{R}^n$, and $y_i \\in \\mathcal{y} = {c_1,c_2,...c_K}$ are the classes\n",
    "- Input example $x$\n",
    "\n",
    "**Output**\n",
    "- The class that $x$ belongs to.\n",
    "\n",
    "**Algorithm**\n",
    "\n",
    "(1). For a input $x$, get its $k$ nearest neighbours with certain distance measures. Denote the set of its $k$ nearest neighbours as $N_k(x)$.\n",
    "\n",
    "(2). Make prediction according to the classes of $N_k(x)$ with a certain decision strategy, for example, the majority vote: \n",
    "$$\\hat{y} = arg \\max\\limits_{c_j} \\sum_{x_i \\in N_k(x)}I(y_i=c_j) \\quad \\quad i=1,2,..N; j=1,2,..K\n",
    "\\label{eq:mv} \\tag{1}$$, where $I()$ is an idendity function:\n",
    "  \\begin{equation}\n",
    "    I(y_i=c_j)=\n",
    "    \\begin{cases}\n",
    "      1, & \\text{if}\\ y_i==c_j \\\\\n",
    "      0, & y_i \\neq c_j\n",
    "    \\end{cases}\n",
    "  \\end{equation}\n",
    "  \n",
    "### `3 Elements`\n",
    "- $k$\n",
    "- distance measure\n",
    "- decision strategy in the classification\n",
    "\n",
    "### `Choice of k`\n",
    "If the neighbourhoods are nonoverlapping, there would be $\\frac{N}{k}$ neighbourhoods. For each neighbourhood, we fit one parameter for it. Thus, the effective number of parameters of $k$-NN is $\\frac{N}{k}$.\n",
    "\n",
    "- Two extreme case:<br/>\n",
    "    * **k=1**\n",
    "        The error on the training data will be 0. <br/>\n",
    "        Complex model, low bias, high variance\n",
    "    * **k=N**\n",
    "        For any input $x$, $\\hat{y}$ would be always be the most common class in the training examples.<br/>\n",
    "        Simple model, high bias\n",
    "- We usually choose a small $k$.\n",
    "- Cross validation can help to choose an optimal $k$.\n",
    "\n",
    "### `Distance Measurement`\n",
    "- Mostly used L2 distance (Euclidean distance): For two vectors $\\mathbf{x_i}$ and $\\mathbf{x_j}$, where $x_i=(x_i^{(1)}, x_i^{(2)}, \\ldots, x_i^{(L)})$, L2 distance between them is:\n",
    "$$L_2(x_i,x_j)= \\Big(\\sum_{l=1}^L |x_i^{(l)}-x_j^{(l)}|^2\\Big)^{1/2}$$\n",
    "- Others include L1 distance.\n",
    "\n",
    "### `Decision strategy`\n",
    "- Widely used is \"majority vote\", see Eq. $\\eqref{eq:mv}$\n",
    "\n",
    "### `Computation of nearest neighbors`\n",
    "Fast computation of nearest neighbors is an active area of research in machine learning. \n",
    "\n",
    "### `1. brute-force (linear scan)`\n",
    "The most straightforward approach involves the brute-force computation of distances between all pairs of points in the dataset (also known as \"linear scan\"): for $N$ samples in $D$ dimensions, its time complexity is $O(DN^2)$. As $N$ grows, the brute-force approach quickly becomes infeasible. \n",
    "- query time grows as $O(DN)$, not related to number of neighors $k$\n",
    "\n",
    "### `2. kd tree - k-dimensional tree`\n",
    "\n",
    "- idea: reduce the distance calculation times: find a way to know points A and C are very distant, without having to explicitly calculate their distance.\n",
    "- CORE of kd tree: **partition the parameter space along the data axes**\n",
    "- kd tree construction is very fast: : because partitioning is performed only along the data axes, no $D$ dimensional distances need to be computed. \n",
    "- disadvantage: “curse of dimensionality”, inefficient when $D$ is large\n",
    "- Query time: KD tree query time changes with $D$. \n",
    "    * For small $D$, (less than 20 or so) the cost is approximately $O[D\\log(N)]$, and the KD tree query can be very efficient. \n",
    "    * For larger $D$, the cost increases to nearly $O[DN]$ and the overhead due to the tree structure can lead to queries which are slower than brute force.\n",
    "    \n",
    "### `3. Ball tree`\n",
    "- CORE of ball tree: **partition data in a series of nesting hyper-spheres**\n",
    "- construction is more coslty than kd-tree\n",
    "- effective for high-dimensional data\n",
    "- query time grows as approximately $O[D\\log(N)]$\n",
    "\n",
    "Brute force query time is unchanged by data structure and number of neighbors $k$. <br/>\n",
    "Both the query times of kd tree and ball tree can be greatly influenced by data structure. And the tree-based arrpoaches' query time will become slower as $k$ increases. This is due to two effects: first, a larger $k$ leads to the necessity to search a larger portion of the parameter space. Second, using $k>1$ requires internal queueing of results as the tree is traversed.\n",
    "\n",
    "**Data structure**: **intrinsic dimensionality** of the data and/or **sparsity** of the data. \n",
    "- *Intrinsic dimensionality* refers to the dimension $d \\leq D$ of a manifold on which the data lies, which can be linearly or non-linearly embedded in the parameter space. \n",
    "- *Sparsity* refers to the degree to which the data fills the parameter space (this is to be distinguished from the concept as used in “sparse” matrices. The data matrix may have no zero entries, but the structure can still be “sparse” in this sense).\n",
    "\n",
    "Ball tree and KD tree query times can be greatly influenced by data structure. In general, <u>sparser data with a smaller intrinsic dimensionality leads to faster query times</u>. Because the KD tree internal representation is aligned with the parameter axes, it will not generally show as much improvement as ball tree for arbitrarily structured data.\n",
    "\n",
    "**Datasets used in machine learning tend to be very structured, and are very well-suited for tree-based queries.**\n",
    "\n",
    "### `Summary`\n",
    "- For small sample sizes (training size < 30), a brute force search can be more efficient than a tree-based query.\n",
    "- As $k$ becomes large compared to $N$ ($k>=N/2$), the ability to prune branches in a tree-based query is reduced. In this situation, brute force queries can be more efficient.\n",
    "- If very few query points will be required, brute force is better than a tree-based method.\n",
    "\n",
    "### `Questions?????????????????`\n",
    "\n",
    "- `leaf_size` in [sklearn.neighbors.KDTree](https://scikit-learn.org/stable/modules/generated/sklearn.neighbors.KDTree.html#sklearn.neighbors.KDTree)"
   ]
  },
  {
   "cell_type": "markdown",
   "metadata": {},
   "source": [
    "### `Implementation of KNN`"
   ]
  },
  {
   "cell_type": "code",
   "execution_count": 1,
   "metadata": {},
   "outputs": [],
   "source": [
    "from sklearn.neighbors import KNeighborsClassifier\n",
    "from sklearn import datasets\n",
    "import numpy as np\n",
    "import matplotlib.pyplot as plt\n",
    "\n",
    "# the iris dataset\n",
    "iris = datasets.load_iris()\n",
    "X = iris.data[:, :2]  # only take two features\n",
    "y = iris.target"
   ]
  },
  {
   "cell_type": "code",
   "execution_count": 18,
   "metadata": {},
   "outputs": [
    {
     "name": "stdout",
     "output_type": "stream",
     "text": [
      "xx shape (220, 280)\n",
      "xx.ravel() shape (61600,)\n"
     ]
    },
    {
     "data": {
      "text/plain": [
       "Text(0.5, 1.0, \"3-Class classification (k = 15, weights = 'distance')\")"
      ]
     },
     "execution_count": 18,
     "metadata": {},
     "output_type": "execute_result"
    },
    {
     "data": {
      "image/png": "[encoded data removed]",
      "text/plain": [
       "<Figure size 432x288 with 1 Axes>"
      ]
     },
     "metadata": {
      "needs_background": "light"
     },
     "output_type": "display_data"
    }
   ],
   "source": [
    "# Create color maps\n",
    "from matplotlib.colors import ListedColormap\n",
    "cmap_light = ListedColormap(['#FFAAAA', '#AAFFAA', '#AAAAFF'])\n",
    "cmap_bold = ListedColormap(['#FF0000', '#00FF00', '#0000FF'])\n",
    "\n",
    "# create a KNN classifier\n",
    "n_neighbors = 15\n",
    "clf = KNeighborsClassifier(n_neighbors, weights='distance')\n",
    "clf.fit(X,y)\n",
    "\n",
    "# Plot the decision boundary. \n",
    "# For that, we will assign a color to each point in the mesh [x_min, x_max]x[y_min, y_max].\n",
    "x_min, x_max = X[:, 0].min() - 1, X[:, 0].max() + 1\n",
    "y_min, y_max = X[:, 1].min() - 1, X[:, 1].max() + 1\n",
    "h = 0.02  # step size in the meshgrid plotting\n",
    "xx, yy = np.meshgrid(np.arange(x_min, x_max, h),\n",
    "                     np.arange(y_min, y_max, h))\n",
    "print('xx shape', xx.shape)\n",
    "print('xx.ravel() shape', xx.ravel().shape)\n",
    "\n",
    "# make predictions\n",
    "Z = clf.predict(np.c_[xx.ravel(), yy.ravel()])\n",
    "\n",
    "Z = Z.reshape(xx.shape)\n",
    "plt.figure()\n",
    "plt.pcolormesh(xx, yy, Z, cmap=cmap_light)\n",
    "\n",
    "# Plot also the training points\n",
    "plt.scatter(X[:, 0], X[:, 1], c=y, cmap=cmap_bold,\n",
    "            edgecolor='k', s=20)\n",
    "plt.xlim(xx.min(), xx.max())\n",
    "plt.ylim(yy.min(), yy.max())\n",
    "plt.title(\"3-Class classification (k = %i, weights = '%s')\"\n",
    "          % (n_neighbors, 'distance'))"
   ]
  },
  {
   "cell_type": "code",
   "execution_count": 19,
   "metadata": {},
   "outputs": [
    {
     "data": {
      "text/plain": [
       "0.9266666666666666"
      ]
     },
     "execution_count": 19,
     "metadata": {},
     "output_type": "execute_result"
    }
   ],
   "source": [
    "clf.score(X,y)"
   ]
  },
  {
   "cell_type": "markdown",
   "metadata": {},
   "source": [
    "## 2. Have not understand??????????\n",
    "\n",
    "- [Checked] pp11, \"huge assumption about structure\" V.S. \"very mild structural assumptions\". **What is an assumption's structure? What does huge or mild mean here?**<br/>\n",
    "    * It (Linear regression) does appear to <u>rely heavily on the assumption that a linear decision boundary is appropriate</u>. So huge assumption about the structure means \"strict assumption\". <br/>\n",
    "    * While the k-nearest-neighbor procedures <u>do not appear to rely on any stringent assumptions about the underlying data</u>, and can adapt to any situation. In this setting, the assumptions about structure are mild.\n",
    "- pp12, **hyperplane**?\n",
    "- pp12, How to solove the Residual Sum of Squares in Linear Regression? <br/>\n",
    "$RSS(\\beta)=\\sum_i^N(y_i - x_i^T\\beta)^2 = (\\textbf{y}-\\textbf{X}\\beta)^T(\\textbf{y}-\\textbf{X}\\beta)$ <br/> **How to differetiate this w.r.t. $\\beta$?** This is how we get the *normal equation* solution for linear regression. \n",
    "- pp18, Statistical Decision Theory. The whole section is not very clear to you."
   ]
  },
  {
   "cell_type": "markdown",
   "metadata": {},
   "source": [
    "# 3. Something to be studied\n",
    "- **Gaussian Model**: bivariate Gaussian distributions, a mixture of 10 low-variate Gaussians\n",
    "- **Voronoi tessellation**"
   ]
  },
  {
   "cell_type": "code",
   "execution_count": null,
   "metadata": {},
   "outputs": [],
   "source": []
  }
 ],
 "metadata": {
  "kernelspec": {
   "display_name": "Python [conda env:py3-4-prac]",
   "language": "python",
   "name": "conda-env-py3-4-prac-py"
  },
  "language_info": {
   "codemirror_mode": {
    "name": "ipython",
    "version": 3
   },
   "file_extension": ".py",
   "mimetype": "text/x-python",
   "name": "python",
   "nbconvert_exporter": "python",
   "pygments_lexer": "ipython3",
   "version": "3.6.8"
  }
 },
 "nbformat": 4,
 "nbformat_minor": 2
}
